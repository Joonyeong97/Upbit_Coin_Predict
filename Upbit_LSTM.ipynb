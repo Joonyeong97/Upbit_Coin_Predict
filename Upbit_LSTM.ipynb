{
  "nbformat": 4,
  "nbformat_minor": 0,
  "metadata": {
    "colab": {
      "name": "Upbit_LSTM.ipynb",
      "provenance": [],
      "collapsed_sections": []
    },
    "kernelspec": {
      "name": "python3",
      "display_name": "Python 3"
    },
    "language_info": {
      "name": "python"
    },
    "accelerator": "GPU"
  },
  "cells": [
    {
      "cell_type": "code",
      "metadata": {
        "colab": {
          "base_uri": "https://localhost:8080/"
        },
        "id": "wbBAKG2CTSvJ",
        "outputId": "6dc20c61-fa3e-48b7-f748-3c2f58d1774a"
      },
      "source": [
        "!pip install pyupbit"
      ],
      "execution_count": null,
      "outputs": [
        {
          "output_type": "stream",
          "text": [
            "Collecting pyupbit\n",
            "  Downloading https://files.pythonhosted.org/packages/68/8a/dc8415e457a32a79b977cb13b08c014e1b82a12da08dd09ea4c6eab99155/pyupbit-0.2.14-py3-none-any.whl\n",
            "Collecting websockets\n",
            "\u001b[?25l  Downloading https://files.pythonhosted.org/packages/5a/0b/3ebc752392a368af14dd24ee041683416ac6d2463eead94b311b11e41c82/websockets-8.1-cp37-cp37m-manylinux2010_x86_64.whl (79kB)\n",
            "\r\u001b[K     |████▏                           | 10kB 25.0MB/s eta 0:00:01\r\u001b[K     |████████▎                       | 20kB 31.0MB/s eta 0:00:01\r\u001b[K     |████████████▍                   | 30kB 32.2MB/s eta 0:00:01\r\u001b[K     |████████████████▌               | 40kB 34.2MB/s eta 0:00:01\r\u001b[K     |████████████████████▋           | 51kB 32.3MB/s eta 0:00:01\r\u001b[K     |████████████████████████▊       | 61kB 33.9MB/s eta 0:00:01\r\u001b[K     |████████████████████████████▉   | 71kB 28.4MB/s eta 0:00:01\r\u001b[K     |████████████████████████████████| 81kB 9.3MB/s \n",
            "\u001b[?25hCollecting pyjwt>=2.0.0\n",
            "  Downloading https://files.pythonhosted.org/packages/b4/9b/8850f99027ed029af6828199cc87179eaccbbf1f9e6e373e7f0177d32dad/PyJWT-2.0.1-py3-none-any.whl\n",
            "Requirement already satisfied: requests in /usr/local/lib/python3.7/dist-packages (from pyupbit) (2.23.0)\n",
            "Requirement already satisfied: pandas in /usr/local/lib/python3.7/dist-packages (from pyupbit) (1.1.5)\n",
            "Requirement already satisfied: idna<3,>=2.5 in /usr/local/lib/python3.7/dist-packages (from requests->pyupbit) (2.10)\n",
            "Requirement already satisfied: urllib3!=1.25.0,!=1.25.1,<1.26,>=1.21.1 in /usr/local/lib/python3.7/dist-packages (from requests->pyupbit) (1.24.3)\n",
            "Requirement already satisfied: certifi>=2017.4.17 in /usr/local/lib/python3.7/dist-packages (from requests->pyupbit) (2020.12.5)\n",
            "Requirement already satisfied: chardet<4,>=3.0.2 in /usr/local/lib/python3.7/dist-packages (from requests->pyupbit) (3.0.4)\n",
            "Requirement already satisfied: pytz>=2017.2 in /usr/local/lib/python3.7/dist-packages (from pandas->pyupbit) (2018.9)\n",
            "Requirement already satisfied: numpy>=1.15.4 in /usr/local/lib/python3.7/dist-packages (from pandas->pyupbit) (1.19.5)\n",
            "Requirement already satisfied: python-dateutil>=2.7.3 in /usr/local/lib/python3.7/dist-packages (from pandas->pyupbit) (2.8.1)\n",
            "Requirement already satisfied: six>=1.5 in /usr/local/lib/python3.7/dist-packages (from python-dateutil>=2.7.3->pandas->pyupbit) (1.15.0)\n",
            "Installing collected packages: websockets, pyjwt, pyupbit\n",
            "Successfully installed pyjwt-2.0.1 pyupbit-0.2.14 websockets-8.1\n"
          ],
          "name": "stdout"
        }
      ]
    },
    {
      "cell_type": "code",
      "metadata": {
        "id": "DQi_ZQStTR0t"
      },
      "source": [
        "import pyupbit\n",
        "import pandas as pd\n",
        "import time\n",
        "import numpy as np\n",
        "\n",
        "class My_Upbit_Data():\n",
        "    \n",
        "    def __init__(self,coinid='ZRX'):\n",
        "        \n",
        "        self.coinid = coinid\n",
        "\n",
        "    def __load_data(self, interval='minute10', date=None, rows=1000):\n",
        "        dfs = []\n",
        "        \n",
        "        ranges = int(rows/200)\n",
        "        \n",
        "        for i in range(ranges):\n",
        "            df = pyupbit.get_ohlcv(ticker='KRW-'+self.coinid, interval=interval, to=date)\n",
        "            dfs.append(df)\n",
        "\n",
        "            date = df.index[0]\n",
        "            time.sleep(0.15)\n",
        "\n",
        "        df = pd.concat(dfs).sort_index()\n",
        "        \n",
        "        return df\n",
        "    \n",
        "    def load_ml_data(self,col='open',interval='minute10',rows=20000):\n",
        "        dataframe = self.__load_data(interval=interval, rows=rows)\n",
        "        times = dataframe.index\n",
        "\n",
        "        return [times,dataframe]"
      ],
      "execution_count": null,
      "outputs": []
    },
    {
      "cell_type": "code",
      "metadata": {
        "id": "DkshwzwpTa3w"
      },
      "source": [
        "import numpy as np\n",
        "import tensorflow as tf\n",
        "import matplotlib.pyplot as plt\n",
        "\n",
        "#plt.rcParams['font.family'] = 'Malgun Gothic'\n",
        "\n",
        "class My_Lstm:\n",
        "    def windowed_dataset(self, series, window_size, batch_size, shuffle_buffer):\n",
        "        series = tf.expand_dims(series, axis=-1)\n",
        "        ds = tf.data.Dataset.from_tensor_slices(series)\n",
        "        ds = ds.window(window_size + 1, shift=1, drop_remainder=True)\n",
        "        ds = ds.flat_map(lambda w: w.batch(window_size + 1))\n",
        "        ds = ds.shuffle(shuffle_buffer)\n",
        "        ds = ds.map(lambda w: (w[:-1], w[1:]))\n",
        "\n",
        "        return ds.batch(batch_size).prefetch(1)\n",
        "\n",
        "    def __dataframe_to_series(self, dataframe, col='open'):\n",
        "        data = dataframe\n",
        "\n",
        "        return np.asarray(data[col], dtype='float32')\n",
        "\n",
        "    def scale_data_fit(self, series):\n",
        "        self.min_scale = np.min(series)\n",
        "        self.max_scale = np.max(series)\n",
        "\n",
        "    def scale_data(self, series):\n",
        "        series = np.array(series)\n",
        "        series -= self.min_scale\n",
        "        series /= self.max_scale\n",
        "\n",
        "        return series\n",
        "\n",
        "    def un_scale_data(self, series):\n",
        "        series = np.array(series)\n",
        "        series *= self.max_scale\n",
        "        series += self.min_scale\n",
        "\n",
        "        return series\n",
        "\n",
        "    def keras_layers_compile(self, loss='mae', optimizer='adam', metrics='mae'):\n",
        "        self.model = tf.keras.Sequential([\n",
        "            tf.keras.layers.LSTM(128, input_shape=[None, 1], return_sequences=True),\n",
        "            tf.keras.layers.Bidirectional(tf.keras.layers.LSTM(256)),\n",
        "            tf.keras.layers.BatchNormalization(),\n",
        "            tf.keras.layers.Flatten(),\n",
        "            tf.keras.layers.Dense(128),\n",
        "            tf.keras.layers.Dense(1)])\n",
        "\n",
        "        self.model.compile(loss=loss, optimizer=optimizer, metrics=metrics)\n",
        "\n",
        "    def callbacks(self, monitor='loss', mode='min', patience=10):\n",
        "        lr_schedule = tf.keras.callbacks.LearningRateScheduler(lambda epoch: 1e-8 * 10 ** (epoch / 10))\n",
        "        earlystop = tf.keras.callbacks.EarlyStopping(monitor='loss', mode='mse', patience=10)\n",
        "        return [lr_schedule, earlystop]\n",
        "\n",
        "    def fit_lstm(self, dataset, epochs=100, callbacks=None):\n",
        "        if callbacks:\n",
        "            history = self.model.fit(dataset, epochs=epochs, callbacks=callbacks)\n",
        "        else:\n",
        "            history = self.model.fit(dataset, epochs=epochs)\n",
        "        return history\n",
        "\n",
        "    def train_data_load(self, dataframe, col='open', scale=True, train_mode=True, window_size=24, batch_size=16,\n",
        "                        shuffle_buffer=30000):\n",
        "        self.scale = scale\n",
        "\n",
        "        # Dataframe to series 하나의 컬럼만 가져와서 예측진행\n",
        "        series = self.__dataframe_to_series(dataframe, col=col)\n",
        "        self.times = dataframe.index\n",
        "\n",
        "        # 원본데이터 백업\n",
        "        self.backup_series = series\n",
        "\n",
        "        # Scale 진행 MinMax scale\n",
        "\n",
        "        if train_mode:\n",
        "            if self.scale:\n",
        "                self.scale_data_fit(series)\n",
        "                series = self.scale_data(series)\n",
        "        else:\n",
        "            if self.scale:\n",
        "                self.scale_data_fit(series)\n",
        "\n",
        "        # Tensorflow 전용 데이터셋으로 변환 (window size=예측할 날짜수)\n",
        "        self.window_size = window_size\n",
        "\n",
        "        if train_mode:\n",
        "            series = self.windowed_dataset(series, self.window_size, batch_size, shuffle_buffer)\n",
        "\n",
        "            self.series = series\n",
        "        else:\n",
        "            self.series = series\n",
        "\n",
        "    def train_lstm(self, epochs=100, callbacks=None, loss='mae', optimizer='adam', metrics='mae'):\n",
        "\n",
        "        # Keras\n",
        "        self.keras_layers_compile(loss=loss, optimizer=optimizer, metrics=metrics)\n",
        "        if callbacks:\n",
        "            callbacks = self.callbacks()\n",
        "        else:\n",
        "\n",
        "            pass\n",
        "        history = self.fit_lstm(self.series, epochs=epochs, callbacks=callbacks)\n",
        "\n",
        "        return history\n",
        "\n",
        "    def save_md(self, name):\n",
        "        try:\n",
        "            self.model.save(name)\n",
        "        except:\n",
        "            print('Error!')\n",
        "\n",
        "    def model_load(self, name, compile=True):\n",
        "        if compile:\n",
        "            self.keras_layers_compile()\n",
        "            self.model = tf.keras.models.load_model(name)\n",
        "        else:\n",
        "            self.model = tf.keras.models.load_model(name)\n",
        "\n",
        "    def predict(self, times, ranges=[0, 200]):\n",
        "        predicts = []\n",
        "        self.ranges = ranges\n",
        "        # self.backup_series_to_un_scale = self.un_scale_data(self.backup_series[ranges[0]:ranges[1]])\n",
        "\n",
        "        self.time_series = times[ranges[0]:ranges[1]]\n",
        "\n",
        "        ranges_series = self.backup_series[ranges[0]:ranges[1]]\n",
        "\n",
        "        if self.scale:\n",
        "\n",
        "            ranges_series_scale = self.scale_data(ranges_series)\n",
        "\n",
        "            for time in range(len(ranges_series_scale) - self.window_size):\n",
        "                pred = np.array(ranges_series_scale[time: time + self.window_size])\n",
        "\n",
        "                pred = pred.reshape(1, -1, 1)\n",
        "\n",
        "                predict = self.model.predict(pred)\n",
        "\n",
        "                predicts.append(predict[0][0])\n",
        "            # 수정부분\n",
        "            predicts = self.un_scale_data(predicts)\n",
        "        else:\n",
        "\n",
        "            for time in range(len(ranges_series) - self.window_size):\n",
        "                pred = np.array(ranges_series[time: time + self.window_size])\n",
        "\n",
        "                pred = pred.reshape(1, -1, 1)\n",
        "\n",
        "                predict = self.model.predict(pred)\n",
        "\n",
        "                predicts.append(predict[0][0])\n",
        "\n",
        "        return predicts\n",
        "\n",
        "    def predict_plot(self, predicts):\n",
        "\n",
        "        plt.figure(figsize=(12, 8))\n",
        "        plt.plot(self.time_series[:-self.window_size], predicts, color='red', label='Predict')\n",
        "        plt.plot(self.time_series[:-self.window_size],\n",
        "                 self.backup_series[self.ranges[0]:self.ranges[1] - self.window_size], color='blue', label='Real')\n",
        "        plt.legend(loc='center left')\n",
        "        plt.show()\n",
        "\n",
        "    def predict_last_few(self, future_):\n",
        "        \n",
        "        _last_future_series = self.backup_series[-self.window_size:]\n",
        "        \n",
        "        self.future_ = future_\n",
        "        futures = []\n",
        "\n",
        "        if self.scale:\n",
        "\n",
        "            _last_future_series = self.scale_data(_last_future_series)\n",
        "\n",
        "            for time in range(future_):\n",
        "                pred = np.array(_last_future_series, dtype='float64')\n",
        "\n",
        "                pred = pred.reshape(1, -1, 1)\n",
        "\n",
        "                predict = self.model.predict(pred)\n",
        "\n",
        "                _last_future_series = np.append(_last_future_series, predict[0][0])\n",
        "\n",
        "                futures.append(predict[0][0])\n",
        "\n",
        "                _last_future_series = np.delete(_last_future_series, 0)\n",
        "\n",
        "            futures = self.un_scale_data(futures)\n",
        "            _last_future_series = self.un_scale_data(_last_future_series)\n",
        "\n",
        "        else:\n",
        "\n",
        "            for time in range(future_):\n",
        "                pred = np.array(_last_future_series, dtype='float64')\n",
        "\n",
        "                pred = pred.reshape(1, -1, 1)\n",
        "\n",
        "                predict = self.model.predict(pred)\n",
        "\n",
        "                _last_future_series = np.append(_last_future_series, predict[0][0])\n",
        "                futures.append(predict[0][0])\n",
        "\n",
        "                _last_future_series = np.delete(_last_future_series, 0)\n",
        "\n",
        "        self.futures = futures\n",
        "        self._last_future_series =_last_future_series\n",
        "\n",
        "    def plot_few_(self,):\n",
        "        threshold = np.ones_like(self._last_future_series,dtype=bool)\n",
        "        threshold[:-self.future_] = False\n",
        "\n",
        "        pred_x = self.times[-self.window_size:]\n",
        "        pred_y = self._last_future_series\n",
        "\n",
        "        plt.plot(pred_x, pred_y,color='blue', label='Real')\n",
        "        plt.plot(pred_x[threshold], pred_y[threshold], color='red', label='Real')\n",
        "        plt.title('{}개의 예측결과'.format(self.future_))\n",
        "        plt.show()"
      ],
      "execution_count": 322,
      "outputs": []
    },
    {
      "cell_type": "code",
      "metadata": {
        "id": "AKETbnVM1E5Y"
      },
      "source": [
        ""
      ],
      "execution_count": null,
      "outputs": []
    },
    {
      "cell_type": "markdown",
      "metadata": {
        "id": "-wb4OpAP91Xu"
      },
      "source": [
        "# Train\n"
      ]
    },
    {
      "cell_type": "code",
      "metadata": {
        "id": "-7ihqQuS2ju_"
      },
      "source": [
        "mylstm = My_Lstm()"
      ],
      "execution_count": 334,
      "outputs": []
    },
    {
      "cell_type": "code",
      "metadata": {
        "id": "l9D4V8Ly2kQW"
      },
      "source": [
        "mud = My_Upbit_Data(coinid='ZRX')"
      ],
      "execution_count": 335,
      "outputs": []
    },
    {
      "cell_type": "code",
      "metadata": {
        "id": "NLC9UOvC2kTX"
      },
      "source": [
        "times, data = mud.load_ml_data(col='open', interval='minute10', rows=30000)"
      ],
      "execution_count": 336,
      "outputs": []
    },
    {
      "cell_type": "code",
      "metadata": {
        "id": "NmNcFS2xr9VU"
      },
      "source": [
        "mylstm.train_data_load(data,scale=True,train_mode=True,window_size=24,batch_size=8,shuffle_buffer=50000)"
      ],
      "execution_count": 337,
      "outputs": []
    },
    {
      "cell_type": "code",
      "metadata": {
        "id": "UbulCVlb2kU8",
        "colab": {
          "base_uri": "https://localhost:8080/"
        },
        "outputId": "b2869d92-3557-4ef8-fc2a-c27b7b06f2ed"
      },
      "source": [
        "mylstm.train_lstm(loss='mse',metrics='mse',epochs=100,callbacks='go',)"
      ],
      "execution_count": null,
      "outputs": [
        {
          "output_type": "stream",
          "text": [
            "WARNING:tensorflow:EarlyStopping mode mse is unknown, fallback to auto mode.\n",
            "Epoch 1/100\n",
            "3747/3747 [==============================] - 37s 9ms/step - loss: 0.1826 - mse: 0.1826\n",
            "Epoch 2/100\n",
            "3747/3747 [==============================] - 34s 9ms/step - loss: 0.1194 - mse: 0.1194\n",
            "Epoch 3/100\n",
            "3666/3747 [============================>.] - ETA: 0s - loss: 0.0773 - mse: 0.0773"
          ],
          "name": "stdout"
        }
      ]
    },
    {
      "cell_type": "code",
      "metadata": {
        "id": "TvMsoi4g2kWv"
      },
      "source": [
        "pred1 = mylstm.predict(times,ranges=[19000,20000])"
      ],
      "execution_count": null,
      "outputs": []
    },
    {
      "cell_type": "code",
      "metadata": {
        "id": "nIEtcFzwKAZm"
      },
      "source": [
        "mylstm.predict_plot(pred1)"
      ],
      "execution_count": null,
      "outputs": []
    },
    {
      "cell_type": "code",
      "metadata": {
        "id": "KPVt9IK0jIVU"
      },
      "source": [
        "mylstm.save_md('ZRX_winsize24_epoch100_batch8.h5')"
      ],
      "execution_count": null,
      "outputs": []
    },
    {
      "cell_type": "markdown",
      "metadata": {
        "id": "N54buNvp93-X"
      },
      "source": [
        "#Test"
      ]
    },
    {
      "cell_type": "code",
      "metadata": {
        "id": "BdpQTQXxQuk4"
      },
      "source": [
        "mylstm2 = My_Lstm()"
      ],
      "execution_count": 323,
      "outputs": []
    },
    {
      "cell_type": "code",
      "metadata": {
        "id": "9D_uoZbZm2t2"
      },
      "source": [
        "mylstm2.model_load('ZRX_winsize24_epoch100_batch8.h5',compile=False)\n",
        "#mylstm2.model.compile(loss='mae', optimizer='adam', metrics='mae')"
      ],
      "execution_count": 324,
      "outputs": []
    },
    {
      "cell_type": "code",
      "metadata": {
        "id": "Os70ks9_m6Q9"
      },
      "source": [
        "mylstm2.train_data_load(data,scale=True,train_mode=False)"
      ],
      "execution_count": 326,
      "outputs": []
    },
    {
      "cell_type": "code",
      "metadata": {
        "id": "V5IBOaSQRlQp"
      },
      "source": [
        "mylstm2.predict_last_few(5)"
      ],
      "execution_count": 329,
      "outputs": []
    },
    {
      "cell_type": "code",
      "metadata": {
        "colab": {
          "base_uri": "https://localhost:8080/",
          "height": 727
        },
        "id": "f0XNU51pWDq3",
        "outputId": "2abec48c-13db-4206-e578-4e1e6376849a"
      },
      "source": [
        "mylstm2.plot_few_()"
      ],
      "execution_count": 330,
      "outputs": [
        {
          "output_type": "stream",
          "text": [
            "/usr/local/lib/python3.7/dist-packages/matplotlib/backends/backend_agg.py:214: RuntimeWarning: Glyph 44060 missing from current font.\n",
            "  font.set_text(s, 0.0, flags=flags)\n",
            "/usr/local/lib/python3.7/dist-packages/matplotlib/backends/backend_agg.py:214: RuntimeWarning: Glyph 51032 missing from current font.\n",
            "  font.set_text(s, 0.0, flags=flags)\n",
            "/usr/local/lib/python3.7/dist-packages/matplotlib/backends/backend_agg.py:214: RuntimeWarning: Glyph 50696 missing from current font.\n",
            "  font.set_text(s, 0.0, flags=flags)\n",
            "/usr/local/lib/python3.7/dist-packages/matplotlib/backends/backend_agg.py:214: RuntimeWarning: Glyph 52769 missing from current font.\n",
            "  font.set_text(s, 0.0, flags=flags)\n",
            "/usr/local/lib/python3.7/dist-packages/matplotlib/backends/backend_agg.py:214: RuntimeWarning: Glyph 44208 missing from current font.\n",
            "  font.set_text(s, 0.0, flags=flags)\n",
            "/usr/local/lib/python3.7/dist-packages/matplotlib/backends/backend_agg.py:214: RuntimeWarning: Glyph 44284 missing from current font.\n",
            "  font.set_text(s, 0.0, flags=flags)\n",
            "/usr/local/lib/python3.7/dist-packages/matplotlib/backends/backend_agg.py:183: RuntimeWarning: Glyph 44060 missing from current font.\n",
            "  font.set_text(s, 0, flags=flags)\n",
            "/usr/local/lib/python3.7/dist-packages/matplotlib/backends/backend_agg.py:183: RuntimeWarning: Glyph 51032 missing from current font.\n",
            "  font.set_text(s, 0, flags=flags)\n",
            "/usr/local/lib/python3.7/dist-packages/matplotlib/backends/backend_agg.py:183: RuntimeWarning: Glyph 50696 missing from current font.\n",
            "  font.set_text(s, 0, flags=flags)\n",
            "/usr/local/lib/python3.7/dist-packages/matplotlib/backends/backend_agg.py:183: RuntimeWarning: Glyph 52769 missing from current font.\n",
            "  font.set_text(s, 0, flags=flags)\n",
            "/usr/local/lib/python3.7/dist-packages/matplotlib/backends/backend_agg.py:183: RuntimeWarning: Glyph 44208 missing from current font.\n",
            "  font.set_text(s, 0, flags=flags)\n",
            "/usr/local/lib/python3.7/dist-packages/matplotlib/backends/backend_agg.py:183: RuntimeWarning: Glyph 44284 missing from current font.\n",
            "  font.set_text(s, 0, flags=flags)\n"
          ],
          "name": "stderr"
        },
        {
          "output_type": "display_data",
          "data": {
            "image/png": "[encoded data removed]",
            "text/plain": [
              "<Figure size 432x288 with 1 Axes>"
            ]
          },
          "metadata": {
            "tags": [],
            "needs_background": "light"
          }
        }
      ]
    },
    {
      "cell_type": "code",
      "metadata": {
        "colab": {
          "base_uri": "https://localhost:8080/"
        },
        "id": "mH6KN9aOjzWR",
        "outputId": "a0fce5b9-3181-4292-83c7-07edb1ae0adf"
      },
      "source": [
        "print(f\"RMSE : {np.sqrt(mean_squared_error(real,pred))}\")"
      ],
      "execution_count": null,
      "outputs": [
        {
          "output_type": "execute_result",
          "data": {
            "text/plain": [
              "34.111183"
            ]
          },
          "metadata": {
            "tags": []
          },
          "execution_count": 183
        }
      ]
    },
    {
      "cell_type": "code",
      "metadata": {
        "colab": {
          "base_uri": "https://localhost:8080/"
        },
        "id": "mUTPa4vljp2u",
        "outputId": "1a3a0758-73db-4d7b-f154-86767c541ebe"
      },
      "source": [
        "print(f\"RMSLE : {np.sqrt(mean_squared_error(np.log(real-1),np.log(pred-1)))}\")"
      ],
      "execution_count": null,
      "outputs": [
        {
          "output_type": "stream",
          "text": [
            "RMSLE : 0.015429836697876453\n"
          ],
          "name": "stdout"
        }
      ]
    }
  ]
}