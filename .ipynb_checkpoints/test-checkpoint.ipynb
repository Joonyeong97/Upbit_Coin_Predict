{
 "cells": [
  {
   "cell_type": "code",
   "execution_count": 39,
   "metadata": {},
   "outputs": [],
   "source": [
    "import pyupbit\n",
    "import pandas as pd\n",
    "import time"
   ]
  },
  {
   "cell_type": "code",
   "execution_count": 2,
   "metadata": {},
   "outputs": [
    {
     "name": "stdout",
     "output_type": "stream",
     "text": [
      "<class 'pyupbit.exchange_api.Upbit'>\n"
     ]
    }
   ],
   "source": [
    "print(pyupbit.Upbit)"
   ]
  },
  {
   "cell_type": "code",
   "execution_count": 5,
   "metadata": {},
   "outputs": [
    {
     "name": "stdout",
     "output_type": "stream",
     "text": [
      "['KRW-BTC', 'KRW-ETH', 'KRW-NEO', 'KRW-MTL', 'KRW-LTC', 'KRW-XRP', 'KRW-ETC', 'KRW-OMG', 'KRW-SNT', 'KRW-WAVES', 'KRW-XEM', 'KRW-QTUM', 'KRW-LSK', 'KRW-STEEM', 'KRW-XLM', 'KRW-ARDR', 'KRW-KMD', 'KRW-ARK', 'KRW-STORJ', 'KRW-GRS', 'KRW-REP', 'KRW-EMC2', 'KRW-ADA', 'KRW-SBD', 'KRW-POWR', 'KRW-BTG', 'KRW-ICX', 'KRW-EOS', 'KRW-TRX', 'KRW-SC', 'KRW-IGNIS', 'KRW-ONT', 'KRW-ZIL', 'KRW-POLY', 'KRW-ZRX', 'KRW-LOOM', 'KRW-BCH', 'KRW-ADX', 'KRW-BAT', 'KRW-IOST', 'KRW-DMT', 'KRW-RFR', 'KRW-CVC', 'KRW-IQ', 'KRW-IOTA', 'KRW-MFT', 'KRW-ONG', 'KRW-GAS', 'KRW-UPP', 'KRW-ELF', 'KRW-KNC', 'KRW-BSV', 'KRW-THETA', 'KRW-EDR', 'KRW-QKC', 'KRW-BTT', 'KRW-MOC', 'KRW-ENJ', 'KRW-TFUEL', 'KRW-MANA', 'KRW-ANKR', 'KRW-AERGO', 'KRW-ATOM', 'KRW-TT', 'KRW-CRE', 'KRW-SOLVE', 'KRW-MBL', 'KRW-TSHP', 'KRW-WAXP', 'KRW-HBAR', 'KRW-MED', 'KRW-MLK', 'KRW-STPT', 'KRW-ORBS', 'KRW-VET', 'KRW-CHZ', 'KRW-PXL', 'KRW-STMX', 'KRW-DKA', 'KRW-HIVE', 'KRW-KAVA', 'KRW-AHT', 'KRW-LINK', 'KRW-XTZ', 'KRW-BORA', 'KRW-JST', 'KRW-CRO', 'KRW-TON', 'KRW-SXP', 'KRW-LAMB', 'KRW-HUNT', 'KRW-MARO', 'KRW-PLA', 'KRW-DOT', 'KRW-SRM', 'KRW-MVL', 'KRW-PCI', 'KRW-STRAX', 'KRW-AQT', 'KRW-BCHA', 'KRW-GLM', 'KRW-QTCON', 'KRW-SSX', 'KRW-META', 'KRW-OBSR', 'KRW-FCT2', 'KRW-LBC', 'KRW-CBK', 'KRW-SAND', 'KRW-HUM', 'KRW-DOGE', 'KRW-STRK', 'KRW-PUNDIX']\n"
     ]
    }
   ],
   "source": [
    "tickers = pyupbit.get_tickers(fiat='KRW')\n",
    "print(tickers)"
   ]
  },
  {
   "cell_type": "code",
   "execution_count": 105,
   "metadata": {},
   "outputs": [],
   "source": [
    "price = pyupbit.get_current_price(\"KRW-ZRX\")"
   ]
  },
  {
   "cell_type": "code",
   "execution_count": 106,
   "metadata": {},
   "outputs": [
    {
     "data": {
      "text/plain": [
       "2275.0"
      ]
     },
     "execution_count": 106,
     "metadata": {},
     "output_type": "execute_result"
    }
   ],
   "source": [
    "price"
   ]
  },
  {
   "cell_type": "code",
   "execution_count": 37,
   "metadata": {},
   "outputs": [],
   "source": [
    "df = pyupbit.get_ohlcv(\"KRW-ZRX\",interval='minute10',count=200,to=None)"
   ]
  },
  {
   "cell_type": "code",
   "execution_count": 43,
   "metadata": {},
   "outputs": [
    {
     "name": "stdout",
     "output_type": "stream",
     "text": [
      "1000\n"
     ]
    }
   ],
   "source": [
    "date = None\n",
    "dfs = [ ]\n",
    "\n",
    "for i in range(5):\n",
    "    df = pyupbit.get_ohlcv(\"KRW-BTC\", interval='minute10', to=date)\n",
    "    dfs.append(df)\n",
    "\n",
    "    date = df.index[0]\n",
    "    time.sleep(0.1)\n",
    "\n",
    "df = pd.concat(dfs).sort_index()\n",
    "print(len(df))"
   ]
  },
  {
   "cell_type": "code",
   "execution_count": 47,
   "metadata": {},
   "outputs": [
    {
     "data": {
      "text/plain": [
       "1000"
      ]
     },
     "execution_count": 47,
     "metadata": {},
     "output_type": "execute_result"
    }
   ],
   "source": [
    "200*5"
   ]
  },
  {
   "cell_type": "code",
   "execution_count": 48,
   "metadata": {},
   "outputs": [
    {
     "data": {
      "text/plain": [
       "5.0"
      ]
     },
     "execution_count": 48,
     "metadata": {},
     "output_type": "execute_result"
    }
   ],
   "source": [
    "1000/200"
   ]
  },
  {
   "cell_type": "code",
   "execution_count": 46,
   "metadata": {},
   "outputs": [
    {
     "data": {
      "text/html": [
       "<div>\n",
       "<style scoped>\n",
       "    .dataframe tbody tr th:only-of-type {\n",
       "        vertical-align: middle;\n",
       "    }\n",
       "\n",
       "    .dataframe tbody tr th {\n",
       "        vertical-align: top;\n",
       "    }\n",
       "\n",
       "    .dataframe thead th {\n",
       "        text-align: right;\n",
       "    }\n",
       "</style>\n",
       "<table border=\"1\" class=\"dataframe\">\n",
       "  <thead>\n",
       "    <tr style=\"text-align: right;\">\n",
       "      <th></th>\n",
       "      <th>open</th>\n",
       "      <th>high</th>\n",
       "      <th>low</th>\n",
       "      <th>close</th>\n",
       "      <th>volume</th>\n",
       "    </tr>\n",
       "  </thead>\n",
       "  <tbody>\n",
       "    <tr>\n",
       "      <th>2021-03-30 06:30:00</th>\n",
       "      <td>68399000.0</td>\n",
       "      <td>68500000.0</td>\n",
       "      <td>68274000.0</td>\n",
       "      <td>68349000.0</td>\n",
       "      <td>45.628508</td>\n",
       "    </tr>\n",
       "    <tr>\n",
       "      <th>2021-03-30 06:40:00</th>\n",
       "      <td>68389000.0</td>\n",
       "      <td>68671000.0</td>\n",
       "      <td>68349000.0</td>\n",
       "      <td>68621000.0</td>\n",
       "      <td>37.821976</td>\n",
       "    </tr>\n",
       "    <tr>\n",
       "      <th>2021-03-30 06:50:00</th>\n",
       "      <td>68650000.0</td>\n",
       "      <td>68800000.0</td>\n",
       "      <td>68534000.0</td>\n",
       "      <td>68625000.0</td>\n",
       "      <td>34.529150</td>\n",
       "    </tr>\n",
       "    <tr>\n",
       "      <th>2021-03-30 07:00:00</th>\n",
       "      <td>68626000.0</td>\n",
       "      <td>68865000.0</td>\n",
       "      <td>68579000.0</td>\n",
       "      <td>68864000.0</td>\n",
       "      <td>41.506413</td>\n",
       "    </tr>\n",
       "    <tr>\n",
       "      <th>2021-03-30 07:10:00</th>\n",
       "      <td>68865000.0</td>\n",
       "      <td>68957000.0</td>\n",
       "      <td>68800000.0</td>\n",
       "      <td>68914000.0</td>\n",
       "      <td>42.288714</td>\n",
       "    </tr>\n",
       "    <tr>\n",
       "      <th>2021-03-30 07:20:00</th>\n",
       "      <td>68910000.0</td>\n",
       "      <td>68921000.0</td>\n",
       "      <td>68850000.0</td>\n",
       "      <td>68891000.0</td>\n",
       "      <td>27.805201</td>\n",
       "    </tr>\n",
       "    <tr>\n",
       "      <th>2021-03-30 07:30:00</th>\n",
       "      <td>68893000.0</td>\n",
       "      <td>68999000.0</td>\n",
       "      <td>68859000.0</td>\n",
       "      <td>68900000.0</td>\n",
       "      <td>29.296888</td>\n",
       "    </tr>\n",
       "    <tr>\n",
       "      <th>2021-03-30 07:40:00</th>\n",
       "      <td>68900000.0</td>\n",
       "      <td>68969000.0</td>\n",
       "      <td>68860000.0</td>\n",
       "      <td>68930000.0</td>\n",
       "      <td>38.168899</td>\n",
       "    </tr>\n",
       "    <tr>\n",
       "      <th>2021-03-30 07:50:00</th>\n",
       "      <td>68929000.0</td>\n",
       "      <td>68929000.0</td>\n",
       "      <td>68777000.0</td>\n",
       "      <td>68875000.0</td>\n",
       "      <td>34.125235</td>\n",
       "    </tr>\n",
       "    <tr>\n",
       "      <th>2021-03-30 08:00:00</th>\n",
       "      <td>68875000.0</td>\n",
       "      <td>68901000.0</td>\n",
       "      <td>68784000.0</td>\n",
       "      <td>68842000.0</td>\n",
       "      <td>24.854911</td>\n",
       "    </tr>\n",
       "    <tr>\n",
       "      <th>2021-03-30 08:10:00</th>\n",
       "      <td>68842000.0</td>\n",
       "      <td>68870000.0</td>\n",
       "      <td>68772000.0</td>\n",
       "      <td>68868000.0</td>\n",
       "      <td>47.965222</td>\n",
       "    </tr>\n",
       "    <tr>\n",
       "      <th>2021-03-30 08:20:00</th>\n",
       "      <td>68868000.0</td>\n",
       "      <td>68896000.0</td>\n",
       "      <td>68637000.0</td>\n",
       "      <td>68676000.0</td>\n",
       "      <td>36.954969</td>\n",
       "    </tr>\n",
       "    <tr>\n",
       "      <th>2021-03-30 08:30:00</th>\n",
       "      <td>68676000.0</td>\n",
       "      <td>68676000.0</td>\n",
       "      <td>68501000.0</td>\n",
       "      <td>68620000.0</td>\n",
       "      <td>41.503632</td>\n",
       "    </tr>\n",
       "    <tr>\n",
       "      <th>2021-03-30 08:40:00</th>\n",
       "      <td>68620000.0</td>\n",
       "      <td>68764000.0</td>\n",
       "      <td>68620000.0</td>\n",
       "      <td>68711000.0</td>\n",
       "      <td>33.127040</td>\n",
       "    </tr>\n",
       "    <tr>\n",
       "      <th>2021-03-30 08:50:00</th>\n",
       "      <td>68711000.0</td>\n",
       "      <td>68754000.0</td>\n",
       "      <td>68600000.0</td>\n",
       "      <td>68701000.0</td>\n",
       "      <td>36.502150</td>\n",
       "    </tr>\n",
       "    <tr>\n",
       "      <th>2021-03-30 09:00:00</th>\n",
       "      <td>68693000.0</td>\n",
       "      <td>68742000.0</td>\n",
       "      <td>68501000.0</td>\n",
       "      <td>68604000.0</td>\n",
       "      <td>61.906675</td>\n",
       "    </tr>\n",
       "    <tr>\n",
       "      <th>2021-03-30 09:10:00</th>\n",
       "      <td>68604000.0</td>\n",
       "      <td>68689000.0</td>\n",
       "      <td>68529000.0</td>\n",
       "      <td>68572000.0</td>\n",
       "      <td>52.848755</td>\n",
       "    </tr>\n",
       "  </tbody>\n",
       "</table>\n",
       "</div>"
      ],
      "text/plain": [
       "                           open        high         low       close     volume\n",
       "2021-03-30 06:30:00  68399000.0  68500000.0  68274000.0  68349000.0  45.628508\n",
       "2021-03-30 06:40:00  68389000.0  68671000.0  68349000.0  68621000.0  37.821976\n",
       "2021-03-30 06:50:00  68650000.0  68800000.0  68534000.0  68625000.0  34.529150\n",
       "2021-03-30 07:00:00  68626000.0  68865000.0  68579000.0  68864000.0  41.506413\n",
       "2021-03-30 07:10:00  68865000.0  68957000.0  68800000.0  68914000.0  42.288714\n",
       "2021-03-30 07:20:00  68910000.0  68921000.0  68850000.0  68891000.0  27.805201\n",
       "2021-03-30 07:30:00  68893000.0  68999000.0  68859000.0  68900000.0  29.296888\n",
       "2021-03-30 07:40:00  68900000.0  68969000.0  68860000.0  68930000.0  38.168899\n",
       "2021-03-30 07:50:00  68929000.0  68929000.0  68777000.0  68875000.0  34.125235\n",
       "2021-03-30 08:00:00  68875000.0  68901000.0  68784000.0  68842000.0  24.854911\n",
       "2021-03-30 08:10:00  68842000.0  68870000.0  68772000.0  68868000.0  47.965222\n",
       "2021-03-30 08:20:00  68868000.0  68896000.0  68637000.0  68676000.0  36.954969\n",
       "2021-03-30 08:30:00  68676000.0  68676000.0  68501000.0  68620000.0  41.503632\n",
       "2021-03-30 08:40:00  68620000.0  68764000.0  68620000.0  68711000.0  33.127040\n",
       "2021-03-30 08:50:00  68711000.0  68754000.0  68600000.0  68701000.0  36.502150\n",
       "2021-03-30 09:00:00  68693000.0  68742000.0  68501000.0  68604000.0  61.906675\n",
       "2021-03-30 09:10:00  68604000.0  68689000.0  68529000.0  68572000.0  52.848755"
      ]
     },
     "execution_count": 46,
     "metadata": {},
     "output_type": "execute_result"
    }
   ],
   "source": [
    "df[198:215]"
   ]
  },
  {
   "cell_type": "code",
   "execution_count": 49,
   "metadata": {},
   "outputs": [
    {
     "data": {
      "text/html": [
       "<div>\n",
       "<style scoped>\n",
       "    .dataframe tbody tr th:only-of-type {\n",
       "        vertical-align: middle;\n",
       "    }\n",
       "\n",
       "    .dataframe tbody tr th {\n",
       "        vertical-align: top;\n",
       "    }\n",
       "\n",
       "    .dataframe thead th {\n",
       "        text-align: right;\n",
       "    }\n",
       "</style>\n",
       "<table border=\"1\" class=\"dataframe\">\n",
       "  <thead>\n",
       "    <tr style=\"text-align: right;\">\n",
       "      <th></th>\n",
       "      <th>open</th>\n",
       "      <th>high</th>\n",
       "      <th>low</th>\n",
       "      <th>close</th>\n",
       "      <th>volume</th>\n",
       "    </tr>\n",
       "  </thead>\n",
       "  <tbody>\n",
       "    <tr>\n",
       "      <th>2021-03-28 21:30:00</th>\n",
       "      <td>66402000.0</td>\n",
       "      <td>66575000.0</td>\n",
       "      <td>66330000.0</td>\n",
       "      <td>66363000.0</td>\n",
       "      <td>48.721887</td>\n",
       "    </tr>\n",
       "    <tr>\n",
       "      <th>2021-03-28 21:40:00</th>\n",
       "      <td>66363000.0</td>\n",
       "      <td>66569000.0</td>\n",
       "      <td>66347000.0</td>\n",
       "      <td>66541000.0</td>\n",
       "      <td>42.533684</td>\n",
       "    </tr>\n",
       "    <tr>\n",
       "      <th>2021-03-28 21:50:00</th>\n",
       "      <td>66541000.0</td>\n",
       "      <td>66600000.0</td>\n",
       "      <td>66502000.0</td>\n",
       "      <td>66526000.0</td>\n",
       "      <td>36.053578</td>\n",
       "    </tr>\n",
       "    <tr>\n",
       "      <th>2021-03-28 22:00:00</th>\n",
       "      <td>66526000.0</td>\n",
       "      <td>66755000.0</td>\n",
       "      <td>66456000.0</td>\n",
       "      <td>66736000.0</td>\n",
       "      <td>38.360742</td>\n",
       "    </tr>\n",
       "    <tr>\n",
       "      <th>2021-03-28 22:10:00</th>\n",
       "      <td>66736000.0</td>\n",
       "      <td>66938000.0</td>\n",
       "      <td>66666000.0</td>\n",
       "      <td>66911000.0</td>\n",
       "      <td>62.981146</td>\n",
       "    </tr>\n",
       "    <tr>\n",
       "      <th>...</th>\n",
       "      <td>...</td>\n",
       "      <td>...</td>\n",
       "      <td>...</td>\n",
       "      <td>...</td>\n",
       "      <td>...</td>\n",
       "    </tr>\n",
       "    <tr>\n",
       "      <th>2021-04-04 20:50:00</th>\n",
       "      <td>73068000.0</td>\n",
       "      <td>73108000.0</td>\n",
       "      <td>72583000.0</td>\n",
       "      <td>72806000.0</td>\n",
       "      <td>91.159386</td>\n",
       "    </tr>\n",
       "    <tr>\n",
       "      <th>2021-04-04 21:00:00</th>\n",
       "      <td>72806000.0</td>\n",
       "      <td>72926000.0</td>\n",
       "      <td>72550000.0</td>\n",
       "      <td>72922000.0</td>\n",
       "      <td>79.270714</td>\n",
       "    </tr>\n",
       "    <tr>\n",
       "      <th>2021-04-04 21:10:00</th>\n",
       "      <td>72898000.0</td>\n",
       "      <td>73471000.0</td>\n",
       "      <td>72897000.0</td>\n",
       "      <td>73317000.0</td>\n",
       "      <td>101.466852</td>\n",
       "    </tr>\n",
       "    <tr>\n",
       "      <th>2021-04-04 21:20:00</th>\n",
       "      <td>73317000.0</td>\n",
       "      <td>73326000.0</td>\n",
       "      <td>73003000.0</td>\n",
       "      <td>73105000.0</td>\n",
       "      <td>61.958066</td>\n",
       "    </tr>\n",
       "    <tr>\n",
       "      <th>2021-04-04 21:30:00</th>\n",
       "      <td>73105000.0</td>\n",
       "      <td>73200000.0</td>\n",
       "      <td>73068000.0</td>\n",
       "      <td>73161000.0</td>\n",
       "      <td>34.682556</td>\n",
       "    </tr>\n",
       "  </tbody>\n",
       "</table>\n",
       "<p>1000 rows × 5 columns</p>\n",
       "</div>"
      ],
      "text/plain": [
       "                           open        high         low       close  \\\n",
       "2021-03-28 21:30:00  66402000.0  66575000.0  66330000.0  66363000.0   \n",
       "2021-03-28 21:40:00  66363000.0  66569000.0  66347000.0  66541000.0   \n",
       "2021-03-28 21:50:00  66541000.0  66600000.0  66502000.0  66526000.0   \n",
       "2021-03-28 22:00:00  66526000.0  66755000.0  66456000.0  66736000.0   \n",
       "2021-03-28 22:10:00  66736000.0  66938000.0  66666000.0  66911000.0   \n",
       "...                         ...         ...         ...         ...   \n",
       "2021-04-04 20:50:00  73068000.0  73108000.0  72583000.0  72806000.0   \n",
       "2021-04-04 21:00:00  72806000.0  72926000.0  72550000.0  72922000.0   \n",
       "2021-04-04 21:10:00  72898000.0  73471000.0  72897000.0  73317000.0   \n",
       "2021-04-04 21:20:00  73317000.0  73326000.0  73003000.0  73105000.0   \n",
       "2021-04-04 21:30:00  73105000.0  73200000.0  73068000.0  73161000.0   \n",
       "\n",
       "                         volume  \n",
       "2021-03-28 21:30:00   48.721887  \n",
       "2021-03-28 21:40:00   42.533684  \n",
       "2021-03-28 21:50:00   36.053578  \n",
       "2021-03-28 22:00:00   38.360742  \n",
       "2021-03-28 22:10:00   62.981146  \n",
       "...                         ...  \n",
       "2021-04-04 20:50:00   91.159386  \n",
       "2021-04-04 21:00:00   79.270714  \n",
       "2021-04-04 21:10:00  101.466852  \n",
       "2021-04-04 21:20:00   61.958066  \n",
       "2021-04-04 21:30:00   34.682556  \n",
       "\n",
       "[1000 rows x 5 columns]"
      ]
     },
     "execution_count": 49,
     "metadata": {},
     "output_type": "execute_result"
    }
   ],
   "source": [
    "df"
   ]
  },
  {
   "cell_type": "code",
   "execution_count": 6,
   "metadata": {},
   "outputs": [],
   "source": [
    "access_key = 'ych2HyuGShHt6QLKVQAyJdXDuED18BtFKNffxyOC'\n",
    "secret_key = 'zaeD3LvD3TXxMQZgrmvInpD3dqZ6slPa0uC92xSq'"
   ]
  },
  {
   "cell_type": "code",
   "execution_count": 25,
   "metadata": {},
   "outputs": [],
   "source": [
    "upbit = pyupbit.Upbit(access_key, secret_key)"
   ]
  },
  {
   "cell_type": "code",
   "execution_count": 42,
   "metadata": {},
   "outputs": [],
   "source": [
    "coins = upbit.get_balances()"
   ]
  },
  {
   "cell_type": "code",
   "execution_count": 45,
   "metadata": {},
   "outputs": [
    {
     "data": {
      "text/plain": [
       "[{'currency': 'KRW',\n",
       "  'balance': '0.34426181',\n",
       "  'locked': '0.0',\n",
       "  'avg_buy_price': '0',\n",
       "  'avg_buy_price_modified': True,\n",
       "  'unit_currency': 'KRW'},\n",
       " {'currency': 'XRP',\n",
       "  'balance': '0.00000066',\n",
       "  'locked': '0.0',\n",
       "  'avg_buy_price': '767',\n",
       "  'avg_buy_price_modified': False,\n",
       "  'unit_currency': 'KRW'},\n",
       " {'currency': 'ZRX',\n",
       "  'balance': '44.55979904',\n",
       "  'locked': '0.0',\n",
       "  'avg_buy_price': '2375',\n",
       "  'avg_buy_price_modified': False,\n",
       "  'unit_currency': 'KRW'}]"
      ]
     },
     "execution_count": 45,
     "metadata": {},
     "output_type": "execute_result"
    }
   ],
   "source": [
    "coins"
   ]
  },
  {
   "cell_type": "code",
   "execution_count": 65,
   "metadata": {},
   "outputs": [],
   "source": [
    "def select_my_coin(coins,coinid='ZRX'):\n",
    "    coin_index = 0\n",
    "    my_coin = ''\n",
    "    for idx,coin in enumerate(coins):\n",
    "        if coin['currency'] == coinid:\n",
    "            coin_index = idx\n",
    "            my_coin = coin\n",
    "    return [coin_index,my_coin]"
   ]
  },
  {
   "cell_type": "code",
   "execution_count": 66,
   "metadata": {},
   "outputs": [],
   "source": [
    "co_idx,my_coin = select_my_coin(coins,'ZRX')"
   ]
  },
  {
   "cell_type": "code",
   "execution_count": 69,
   "metadata": {},
   "outputs": [
    {
     "data": {
      "text/plain": [
       "{'currency': 'ZRX',\n",
       " 'balance': '44.55979904',\n",
       " 'locked': '0.0',\n",
       " 'avg_buy_price': '2375',\n",
       " 'avg_buy_price_modified': False,\n",
       " 'unit_currency': 'KRW'}"
      ]
     },
     "execution_count": 69,
     "metadata": {},
     "output_type": "execute_result"
    }
   ],
   "source": [
    "my_coin"
   ]
  },
  {
   "cell_type": "code",
   "execution_count": 58,
   "metadata": {},
   "outputs": [],
   "source": [
    "import pyupbit\n",
    "import pandas as pd\n",
    "import time\n",
    "\n",
    "class My_Upbit(pyupbit.Upbit):\n",
    "    \n",
    "    def select_my_coin(self,coinid='ZRX'):\n",
    "        \n",
    "        coins = self.get_balances()\n",
    "        \n",
    "        coin_index = 0\n",
    "        my_coin = ''\n",
    "        for idx,coin in enumerate(coins):\n",
    "            if coin['currency'] == coinid:\n",
    "                coin_index = idx\n",
    "                my_coin = coin\n",
    "        return my_coin\n",
    "    \n",
    "    def load_DL_data(self,ticker=\"KRW-ZRX\", interval='minute10', date=None, rows=1000):\n",
    "        dfs = []\n",
    "        \n",
    "        ranges = int(rows/200)\n",
    "        \n",
    "        for i in range(ranges):\n",
    "            df = pyupbit.get_ohlcv(ticker=ticker, interval=interval, to=date)\n",
    "            dfs.append(df)\n",
    "\n",
    "            date = df.index[0]\n",
    "            time.sleep(0.15)\n",
    "\n",
    "        df = pd.concat(dfs).sort_index()\n",
    "        \n",
    "        return df"
   ]
  },
  {
   "cell_type": "code",
   "execution_count": 59,
   "metadata": {},
   "outputs": [],
   "source": [
    "my_bit = My_Upbit(access_key, secret_key)"
   ]
  },
  {
   "cell_type": "code",
   "execution_count": 60,
   "metadata": {},
   "outputs": [
    {
     "data": {
      "text/plain": [
       "{'currency': 'ZRX',\n",
       " 'balance': '44.55979904',\n",
       " 'locked': '0.0',\n",
       " 'avg_buy_price': '2375',\n",
       " 'avg_buy_price_modified': False,\n",
       " 'unit_currency': 'KRW'}"
      ]
     },
     "execution_count": 60,
     "metadata": {},
     "output_type": "execute_result"
    }
   ],
   "source": [
    "my_bit.select_my_coin('ZRX')"
   ]
  },
  {
   "cell_type": "code",
   "execution_count": 61,
   "metadata": {},
   "outputs": [
    {
     "data": {
      "text/html": [
       "<div>\n",
       "<style scoped>\n",
       "    .dataframe tbody tr th:only-of-type {\n",
       "        vertical-align: middle;\n",
       "    }\n",
       "\n",
       "    .dataframe tbody tr th {\n",
       "        vertical-align: top;\n",
       "    }\n",
       "\n",
       "    .dataframe thead th {\n",
       "        text-align: right;\n",
       "    }\n",
       "</style>\n",
       "<table border=\"1\" class=\"dataframe\">\n",
       "  <thead>\n",
       "    <tr style=\"text-align: right;\">\n",
       "      <th></th>\n",
       "      <th>open</th>\n",
       "      <th>high</th>\n",
       "      <th>low</th>\n",
       "      <th>close</th>\n",
       "      <th>volume</th>\n",
       "    </tr>\n",
       "  </thead>\n",
       "  <tbody>\n",
       "    <tr>\n",
       "      <th>2021-03-28 21:40:00</th>\n",
       "      <td>1710.0</td>\n",
       "      <td>1720.0</td>\n",
       "      <td>1700.0</td>\n",
       "      <td>1710.0</td>\n",
       "      <td>104159.757332</td>\n",
       "    </tr>\n",
       "    <tr>\n",
       "      <th>2021-03-28 21:50:00</th>\n",
       "      <td>1710.0</td>\n",
       "      <td>1720.0</td>\n",
       "      <td>1705.0</td>\n",
       "      <td>1715.0</td>\n",
       "      <td>90864.628049</td>\n",
       "    </tr>\n",
       "    <tr>\n",
       "      <th>2021-03-28 22:00:00</th>\n",
       "      <td>1715.0</td>\n",
       "      <td>1740.0</td>\n",
       "      <td>1710.0</td>\n",
       "      <td>1740.0</td>\n",
       "      <td>124910.839736</td>\n",
       "    </tr>\n",
       "    <tr>\n",
       "      <th>2021-03-28 22:10:00</th>\n",
       "      <td>1740.0</td>\n",
       "      <td>1750.0</td>\n",
       "      <td>1730.0</td>\n",
       "      <td>1740.0</td>\n",
       "      <td>127551.442486</td>\n",
       "    </tr>\n",
       "    <tr>\n",
       "      <th>2021-03-28 22:20:00</th>\n",
       "      <td>1735.0</td>\n",
       "      <td>1750.0</td>\n",
       "      <td>1735.0</td>\n",
       "      <td>1750.0</td>\n",
       "      <td>137506.184537</td>\n",
       "    </tr>\n",
       "    <tr>\n",
       "      <th>...</th>\n",
       "      <td>...</td>\n",
       "      <td>...</td>\n",
       "      <td>...</td>\n",
       "      <td>...</td>\n",
       "      <td>...</td>\n",
       "    </tr>\n",
       "    <tr>\n",
       "      <th>2021-04-04 21:00:00</th>\n",
       "      <td>2230.0</td>\n",
       "      <td>2255.0</td>\n",
       "      <td>2215.0</td>\n",
       "      <td>2250.0</td>\n",
       "      <td>169991.280509</td>\n",
       "    </tr>\n",
       "    <tr>\n",
       "      <th>2021-04-04 21:10:00</th>\n",
       "      <td>2250.0</td>\n",
       "      <td>2275.0</td>\n",
       "      <td>2250.0</td>\n",
       "      <td>2265.0</td>\n",
       "      <td>136671.555401</td>\n",
       "    </tr>\n",
       "    <tr>\n",
       "      <th>2021-04-04 21:20:00</th>\n",
       "      <td>2270.0</td>\n",
       "      <td>2275.0</td>\n",
       "      <td>2250.0</td>\n",
       "      <td>2255.0</td>\n",
       "      <td>61967.092570</td>\n",
       "    </tr>\n",
       "    <tr>\n",
       "      <th>2021-04-04 21:30:00</th>\n",
       "      <td>2255.0</td>\n",
       "      <td>2290.0</td>\n",
       "      <td>2255.0</td>\n",
       "      <td>2285.0</td>\n",
       "      <td>91804.493087</td>\n",
       "    </tr>\n",
       "    <tr>\n",
       "      <th>2021-04-04 21:40:00</th>\n",
       "      <td>2285.0</td>\n",
       "      <td>2300.0</td>\n",
       "      <td>2285.0</td>\n",
       "      <td>2295.0</td>\n",
       "      <td>109544.390105</td>\n",
       "    </tr>\n",
       "  </tbody>\n",
       "</table>\n",
       "<p>1000 rows × 5 columns</p>\n",
       "</div>"
      ],
      "text/plain": [
       "                       open    high     low   close         volume\n",
       "2021-03-28 21:40:00  1710.0  1720.0  1700.0  1710.0  104159.757332\n",
       "2021-03-28 21:50:00  1710.0  1720.0  1705.0  1715.0   90864.628049\n",
       "2021-03-28 22:00:00  1715.0  1740.0  1710.0  1740.0  124910.839736\n",
       "2021-03-28 22:10:00  1740.0  1750.0  1730.0  1740.0  127551.442486\n",
       "2021-03-28 22:20:00  1735.0  1750.0  1735.0  1750.0  137506.184537\n",
       "...                     ...     ...     ...     ...            ...\n",
       "2021-04-04 21:00:00  2230.0  2255.0  2215.0  2250.0  169991.280509\n",
       "2021-04-04 21:10:00  2250.0  2275.0  2250.0  2265.0  136671.555401\n",
       "2021-04-04 21:20:00  2270.0  2275.0  2250.0  2255.0   61967.092570\n",
       "2021-04-04 21:30:00  2255.0  2290.0  2255.0  2285.0   91804.493087\n",
       "2021-04-04 21:40:00  2285.0  2300.0  2285.0  2295.0  109544.390105\n",
       "\n",
       "[1000 rows x 5 columns]"
      ]
     },
     "execution_count": 61,
     "metadata": {},
     "output_type": "execute_result"
    }
   ],
   "source": [
    "my_bit.load_DL_data()"
   ]
  },
  {
   "cell_type": "code",
   "execution_count": null,
   "metadata": {},
   "outputs": [],
   "source": []
  },
  {
   "cell_type": "code",
   "execution_count": 76,
   "metadata": {},
   "outputs": [],
   "source": [
    "price = pyupbit.get_current_price(\"KRW-ZRX\")"
   ]
  },
  {
   "cell_type": "code",
   "execution_count": 100,
   "metadata": {},
   "outputs": [
    {
     "data": {
      "text/plain": [
       "4.590000000000001"
      ]
     },
     "execution_count": 100,
     "metadata": {},
     "output_type": "execute_result"
    }
   ],
   "source": [
    "price*0.00002*100"
   ]
  },
  {
   "cell_type": "code",
   "execution_count": 96,
   "metadata": {},
   "outputs": [
    {
     "data": {
      "text/plain": [
       "2295.0"
      ]
     },
     "execution_count": 96,
     "metadata": {},
     "output_type": "execute_result"
    }
   ],
   "source": [
    "price"
   ]
  },
  {
   "cell_type": "code",
   "execution_count": 75,
   "metadata": {
    "collapsed": true,
    "jupyter": {
     "outputs_hidden": true
    }
   },
   "outputs": [
    {
     "name": "stdout",
     "output_type": "stream",
     "text": [
      "2300.0\n",
      "2300.0\n",
      "2300.0\n",
      "2300.0\n",
      "2300.0\n",
      "2300.0\n",
      "2300.0\n",
      "2300.0\n",
      "2300.0\n",
      "2300.0\n",
      "2300.0\n",
      "2300.0\n",
      "2300.0\n",
      "2300.0\n",
      "2300.0\n",
      "2300.0\n",
      "2300.0\n",
      "2300.0\n",
      "2300.0\n",
      "2300.0\n",
      "2300.0\n",
      "2300.0\n",
      "2300.0\n",
      "2300.0\n",
      "2300.0\n",
      "2300.0\n",
      "2300.0\n",
      "2300.0\n",
      "2300.0\n",
      "2300.0\n",
      "2300.0\n",
      "2300.0\n",
      "2305.0\n",
      "2305.0\n",
      "2305.0\n",
      "2305.0\n",
      "2305.0\n",
      "2305.0\n",
      "2305.0\n",
      "2305.0\n",
      "2305.0\n",
      "2300.0\n",
      "2300.0\n",
      "2300.0\n",
      "2300.0\n",
      "2300.0\n",
      "2300.0\n",
      "2300.0\n"
     ]
    },
    {
     "ename": "KeyboardInterrupt",
     "evalue": "",
     "output_type": "error",
     "traceback": [
      "\u001b[1;31m---------------------------------------------------------------------------\u001b[0m",
      "\u001b[1;31mKeyboardInterrupt\u001b[0m                         Traceback (most recent call last)",
      "\u001b[1;32m<ipython-input-75-f748c9751f3d>\u001b[0m in \u001b[0;36m<module>\u001b[1;34m\u001b[0m\n\u001b[0;32m      1\u001b[0m \u001b[1;32mwhile\u001b[0m \u001b[1;32mTrue\u001b[0m\u001b[1;33m:\u001b[0m\u001b[1;33m\u001b[0m\u001b[1;33m\u001b[0m\u001b[0m\n\u001b[0;32m      2\u001b[0m     \u001b[0mprint\u001b[0m\u001b[1;33m(\u001b[0m\u001b[0mpyupbit\u001b[0m\u001b[1;33m.\u001b[0m\u001b[0mget_current_price\u001b[0m\u001b[1;33m(\u001b[0m\u001b[1;34m\"KRW-ZRX\"\u001b[0m\u001b[1;33m)\u001b[0m\u001b[1;33m)\u001b[0m\u001b[1;33m\u001b[0m\u001b[1;33m\u001b[0m\u001b[0m\n\u001b[1;32m----> 3\u001b[1;33m     \u001b[0mtime\u001b[0m\u001b[1;33m.\u001b[0m\u001b[0msleep\u001b[0m\u001b[1;33m(\u001b[0m\u001b[1;36m0.75\u001b[0m\u001b[1;33m)\u001b[0m\u001b[1;33m\u001b[0m\u001b[1;33m\u001b[0m\u001b[0m\n\u001b[0m\u001b[0;32m      4\u001b[0m \u001b[1;33m\u001b[0m\u001b[0m\n\u001b[0;32m      5\u001b[0m     \u001b[0mwait_\u001b[0m \u001b[1;33m+=\u001b[0m \u001b[1;36m1\u001b[0m\u001b[1;33m\u001b[0m\u001b[1;33m\u001b[0m\u001b[0m\n",
      "\u001b[1;31mKeyboardInterrupt\u001b[0m: "
     ]
    }
   ],
   "source": [
    "wait_ = 0\n",
    "while True:\n",
    "    price = pyupbit.get_current_price(\"KRW-ZRX\")\n",
    "    print()\n",
    "    time.sleep(0.75)\n",
    "    \n",
    "    wait_ += 1\n",
    "    \n",
    "    if wait_ == 10:\n",
    "        break"
   ]
  },
  {
   "cell_type": "code",
   "execution_count": null,
   "metadata": {},
   "outputs": [],
   "source": []
  },
  {
   "cell_type": "code",
   "execution_count": 30,
   "metadata": {},
   "outputs": [
    {
     "name": "stdout",
     "output_type": "stream",
     "text": [
      "{'error': {'message': '최소주문금액 이상으로 주문해주세요', 'name': 'under_min_total_bid'}}\n"
     ]
    }
   ],
   "source": [
    "# buy\n",
    "ret = upbit.buy_limit_order(\"KRW-XRP\", 100, 20)\n",
    "print(ret)"
   ]
  },
  {
   "cell_type": "code",
   "execution_count": 101,
   "metadata": {},
   "outputs": [
    {
     "name": "stdout",
     "output_type": "stream",
     "text": [
      "{'uuid': '47f5592b-737f-4e4d-8e7b-71eb18658af5', 'side': 'ask', 'ord_type': 'limit', 'price': '50000.0', 'state': 'wait', 'market': 'KRW-ZRX', 'created_at': '2021-04-04T20:18:19+09:00', 'volume': '1.0', 'remaining_volume': '1.0', 'reserved_fee': '0.0', 'remaining_fee': '0.0', 'paid_fee': '0.0', 'locked': '1.0', 'executed_volume': '0.0', 'trades_count': 0}\n"
     ]
    }
   ],
   "source": [
    "# sell\n",
    "ret = upbit.sell_limit_order(\"KRW-ZRX\", 50000, 1)\n",
    "print(ret)"
   ]
  },
  {
   "cell_type": "code",
   "execution_count": 35,
   "metadata": {},
   "outputs": [
    {
     "data": {
      "text/plain": [
       "{'uuid': 'e5f87baf-4276-4876-8232-6372a1e9bf99',\n",
       " 'side': 'ask',\n",
       " 'ord_type': 'limit',\n",
       " 'price': '50000.0',\n",
       " 'state': 'wait',\n",
       " 'market': 'KRW-ZRX',\n",
       " 'created_at': '2021-04-04T19:49:59+09:00',\n",
       " 'volume': '1.0',\n",
       " 'remaining_volume': '1.0',\n",
       " 'reserved_fee': '0.0',\n",
       " 'remaining_fee': '0.0',\n",
       " 'paid_fee': '0.0',\n",
       " 'locked': '1.0',\n",
       " 'executed_volume': '0.0',\n",
       " 'trades_count': 0}"
      ]
     },
     "execution_count": 35,
     "metadata": {},
     "output_type": "execute_result"
    }
   ],
   "source": [
    "ret"
   ]
  },
  {
   "cell_type": "code",
   "execution_count": 36,
   "metadata": {},
   "outputs": [],
   "source": [
    "order_id = ret['uuid']"
   ]
  },
  {
   "cell_type": "code",
   "execution_count": null,
   "metadata": {},
   "outputs": [],
   "source": [
    "# cancel order"
   ]
  },
  {
   "cell_type": "code",
   "execution_count": 37,
   "metadata": {},
   "outputs": [
    {
     "name": "stdout",
     "output_type": "stream",
     "text": [
      "{'uuid': 'e5f87baf-4276-4876-8232-6372a1e9bf99', 'side': 'ask', 'ord_type': 'limit', 'price': '50000.0', 'state': 'wait', 'market': 'KRW-ZRX', 'created_at': '2021-04-04T19:49:59+09:00', 'volume': '1.0', 'remaining_volume': '1.0', 'reserved_fee': '0.0', 'remaining_fee': '0.0', 'paid_fee': '0.0', 'locked': '1.0', 'executed_volume': '0.0', 'trades_count': 0}\n"
     ]
    }
   ],
   "source": [
    "ret = upbit.cancel_order(order_id)\n",
    "print(ret)"
   ]
  },
  {
   "cell_type": "code",
   "execution_count": 27,
   "metadata": {},
   "outputs": [
    {
     "name": "stdout",
     "output_type": "stream",
     "text": [
      "Coin Name : KRW-ZRX               Price : 2245.0\n",
      "Coin Name : KRW-ZRX               Price : 2245.0\n",
      "Coin Name : KRW-ZRX               Price : 2245.0\n",
      "Coin Name : KRW-ZRX               Price : 2245.0\n",
      "Coin Name : KRW-ZRX               Price : 2245.0\n",
      "Coin Name : KRW-ZRX               Price : 2245.0\n",
      "Coin Name : KRW-ZRX               Price : 2245.0\n",
      "Coin Name : KRW-ZRX               Price : 2250.0\n",
      "Coin Name : KRW-ZRX               Price : 2250.0\n",
      "Coin Name : KRW-ZRX               Price : 2250.0\n"
     ]
    }
   ],
   "source": [
    "from pyupbit import WebSocketManager\n",
    "\n",
    "if __name__ == \"__main__\":\n",
    "    wm = WebSocketManager(\"ticker\", [\"KRW-ZRX\"])\n",
    "    for i in range(10):\n",
    "        data = wm.get()\n",
    "        print(f\"Coin Name : {data['code']} \\\n",
    "              Price : {data['trade_price']}\")\n",
    "    wm.terminate()"
   ]
  },
  {
   "cell_type": "code",
   "execution_count": 28,
   "metadata": {},
   "outputs": [
    {
     "name": "stdout",
     "output_type": "stream",
     "text": [
      "{'type': 'ticker', 'code': 'KRW-ZRX', 'opening_price': 2185.0, 'high_price': 2330.0, 'low_price': 2125.0, 'trade_price': 2250.0, 'prev_closing_price': 2180.0, 'acc_trade_price': 22221034452.37557, 'change': 'RISE', 'change_price': 70.0, 'signed_change_price': 70.0, 'change_rate': 0.0321100917, 'signed_change_rate': 0.0321100917, 'ask_bid': 'ASK', 'trade_volume': 37.42351893, 'acc_trade_volume': 9905863.18396551, 'trade_date': '20210404', 'trade_time': '121217', 'trade_timestamp': 1617538337000, 'acc_ask_volume': 5755700.18512157, 'acc_bid_volume': 4150162.99884394, 'highest_52_week_price': 3035.0, 'highest_52_week_date': '2021-02-23', 'lowest_52_week_price': 184.0, 'lowest_52_week_date': '2020-04-04', 'trade_status': None, 'market_state': 'ACTIVE', 'market_state_for_ios': None, 'is_trading_suspended': False, 'delisting_date': None, 'market_warning': 'NONE', 'timestamp': 1617538337964, 'acc_trade_price_24h': 52705427335.88814, 'acc_trade_volume_24h': 22855450.12930969, 'stream_type': 'SNAPSHOT'}\n"
     ]
    }
   ],
   "source": [
    "from pyupbit import WebSocketManager\n",
    "\n",
    "if __name__ == \"__main__\":\n",
    "    wm = WebSocketManager(\"ticker\", [\"KRW-ZRX\"])\n",
    "    for i in range(1):\n",
    "        data = wm.get()\n",
    "        print(data)\n",
    "    wm.terminate()"
   ]
  },
  {
   "cell_type": "code",
   "execution_count": 1,
   "metadata": {},
   "outputs": [
    {
     "name": "stdout",
     "output_type": "stream",
     "text": [
      "72980000.0\n",
      "72989000.0\n",
      "72980000.0\n",
      "72989000.0\n",
      "72989000.0\n",
      "72997000.0\n",
      "72989000.0\n",
      "72989000.0\n",
      "72989000.0\n",
      "72989000.0\n",
      "72989000.0\n",
      "72989000.0\n",
      "72989000.0\n",
      "72989000.0\n",
      "72997000.0\n",
      "72997000.0\n",
      "72989000.0\n",
      "72989000.0\n",
      "72989000.0\n",
      "72989000.0\n",
      "72989000.0\n",
      "72989000.0\n",
      "72989000.0\n",
      "72959000.0\n",
      "72980000.0\n",
      "72980000.0\n",
      "72989000.0\n",
      "72980000.0\n",
      "72982000.0\n",
      "72980000.0\n",
      "72973000.0\n",
      "72980000.0\n",
      "72980000.0\n",
      "72959000.0\n",
      "72959000.0\n",
      "72959000.0\n",
      "72959000.0\n",
      "72989000.0\n",
      "72980000.0\n",
      "72980000.0\n",
      "72989000.0\n",
      "72989000.0\n",
      "72959000.0\n",
      "72959000.0\n",
      "72959000.0\n",
      "72959000.0\n",
      "72989000.0\n",
      "72997000.0\n",
      "72997000.0\n",
      "72997000.0\n",
      "72949000.0\n",
      "72949000.0\n",
      "72950000.0\n",
      "72950000.0\n",
      "72950000.0\n",
      "72944000.0\n",
      "72949000.0\n",
      "72943000.0\n",
      "72942000.0\n",
      "72944000.0\n",
      "72945000.0\n",
      "72943000.0\n",
      "72949000.0\n",
      "72997000.0\n",
      "72952000.0\n",
      "72980000.0\n",
      "72950000.0\n",
      "72942000.0\n",
      "72996000.0\n",
      "72997000.0\n",
      "72980000.0\n",
      "72942000.0\n",
      "72942000.0\n",
      "72939000.0\n",
      "72942000.0\n",
      "72942000.0\n",
      "72942000.0\n",
      "72940000.0\n",
      "72939000.0\n",
      "72939000.0\n",
      "72939000.0\n",
      "72940000.0\n",
      "72941000.0\n",
      "72939000.0\n",
      "72942000.0\n",
      "72942000.0\n",
      "72997000.0\n",
      "72975000.0\n",
      "72942000.0\n",
      "72975000.0\n",
      "72980000.0\n",
      "72989000.0\n",
      "72942000.0\n",
      "72980000.0\n",
      "72942000.0\n",
      "72968000.0\n",
      "72989000.0\n",
      "72989000.0\n",
      "72989000.0\n",
      "72989000.0\n",
      "72966000.0\n",
      "72997000.0\n",
      "72989000.0\n",
      "72989000.0\n",
      "72966000.0\n",
      "72966000.0\n",
      "72950000.0\n",
      "72942000.0\n",
      "72966000.0\n",
      "72936000.0\n",
      "72936000.0\n",
      "72938000.0\n",
      "72942000.0\n",
      "72938000.0\n",
      "72936000.0\n",
      "72939000.0\n",
      "72942000.0\n",
      "72936000.0\n",
      "72975000.0\n",
      "72966000.0\n",
      "72996000.0\n",
      "72936000.0\n",
      "72943000.0\n",
      "72950000.0\n",
      "72950000.0\n",
      "72966000.0\n",
      "72966000.0\n",
      "72966000.0\n",
      "72966000.0\n",
      "72966000.0\n",
      "72943000.0\n",
      "72943000.0\n",
      "72943000.0\n",
      "72942000.0\n",
      "72943000.0\n",
      "72966000.0\n",
      "72942000.0\n",
      "72966000.0\n",
      "72942000.0\n",
      "72966000.0\n",
      "72942000.0\n",
      "72996000.0\n",
      "72996000.0\n",
      "72996000.0\n",
      "72996000.0\n",
      "72996000.0\n",
      "72942000.0\n",
      "72942000.0\n",
      "72942000.0\n",
      "72942000.0\n",
      "72942000.0\n",
      "72942000.0\n",
      "72945000.0\n",
      "72942000.0\n",
      "72967000.0\n",
      "72995000.0\n",
      "72967000.0\n",
      "72956000.0\n",
      "72942000.0\n",
      "72956000.0\n",
      "72942000.0\n",
      "72956000.0\n",
      "72942000.0\n",
      "72942000.0\n",
      "72966000.0\n",
      "72942000.0\n",
      "72942000.0\n",
      "72942000.0\n",
      "72989000.0\n",
      "72966000.0\n",
      "72995000.0\n",
      "72942000.0\n",
      "72967000.0\n",
      "72942000.0\n",
      "72942000.0\n",
      "72956000.0\n",
      "72942000.0\n",
      "72942000.0\n",
      "72967000.0\n",
      "72942000.0\n",
      "72942000.0\n",
      "72942000.0\n",
      "72942000.0\n",
      "72938000.0\n",
      "72932000.0\n",
      "72932000.0\n",
      "72939000.0\n",
      "72935000.0\n",
      "72933000.0\n",
      "72932000.0\n",
      "72935000.0\n",
      "72935000.0\n",
      "72935000.0\n",
      "72934000.0\n",
      "72939000.0\n",
      "72938000.0\n",
      "72938000.0\n",
      "72934000.0\n",
      "72934000.0\n",
      "72935000.0\n",
      "72934000.0\n",
      "72938000.0\n",
      "72935000.0\n",
      "72935000.0\n",
      "72932000.0\n",
      "72931000.0\n",
      "72932000.0\n",
      "72932000.0\n",
      "72932000.0\n",
      "72932000.0\n",
      "72931000.0\n",
      "72931000.0\n",
      "72940000.0\n",
      "72930000.0\n",
      "72930000.0\n",
      "72930000.0\n",
      "72930000.0\n",
      "72930000.0\n",
      "72931000.0\n",
      "72930000.0\n",
      "72942000.0\n",
      "72966000.0\n",
      "72938000.0\n",
      "72924000.0\n",
      "72924000.0\n",
      "72927000.0\n",
      "72924000.0\n",
      "72924000.0\n",
      "72924000.0\n",
      "72927000.0\n",
      "72927000.0\n",
      "72927000.0\n",
      "72928000.0\n",
      "72942000.0\n",
      "72928000.0\n",
      "72929000.0\n",
      "72927000.0\n",
      "72928000.0\n",
      "72934000.0\n",
      "72938000.0\n",
      "72928000.0\n",
      "72938000.0\n",
      "72928000.0\n",
      "72928000.0\n",
      "72924000.0\n",
      "72923000.0\n",
      "72923000.0\n",
      "72922000.0\n",
      "72923000.0\n",
      "72920000.0\n",
      "72920000.0\n",
      "72922000.0\n",
      "72920000.0\n",
      "72922000.0\n",
      "72920000.0\n",
      "72920000.0\n",
      "72915000.0\n",
      "72914000.0\n",
      "72915000.0\n",
      "72916000.0\n",
      "72919000.0\n",
      "72915000.0\n",
      "72917000.0\n",
      "72914000.0\n",
      "72914000.0\n",
      "72916000.0\n",
      "72920000.0\n",
      "72928000.0\n",
      "72928000.0\n",
      "72928000.0\n",
      "72914000.0\n",
      "72914000.0\n",
      "72928000.0\n",
      "72920000.0\n",
      "72924000.0\n",
      "72920000.0\n",
      "72924000.0\n",
      "72928000.0\n",
      "72920000.0\n",
      "72914000.0\n",
      "72914000.0\n",
      "72928000.0\n",
      "72914000.0\n",
      "72914000.0\n",
      "72928000.0\n"
     ]
    }
   ],
   "source": [
    "from pyupbit import WebSocketManager\n",
    "import sys\n",
    "from PyQt5.QtWidgets import *\n",
    "from PyQt5.QtCore import *\n",
    "from PyQt5.QtGui import QIcon\n",
    "import time\n",
    "\n",
    "\n",
    "class Worker(QThread):\n",
    "    recv = pyqtSignal(str)\n",
    "    def run(self):\n",
    "        # create websocket for Bithumb\n",
    "        wm = WebSocketManager(\"ticker\", [\"KRW-BTC\"])\n",
    "        #for i in range(10):\n",
    "        while True:\n",
    "            data = wm.get()\n",
    "            #self.recv.emit(data['code'])\n",
    "            self.recv.emit(str(data['trade_price']))\n",
    "        #wm.terminate()\n",
    "\n",
    "\n",
    "class App(QWidget):\n",
    "    def __init__(self):\n",
    "        super().__init__()\n",
    "        self.initUI()\n",
    "\n",
    "    def initUI(self):\n",
    "        label = QLabel(\"BTC\", self)\n",
    "        label.move(20, 20)\n",
    "\n",
    "        self.price = QLabel(\"-\", self)\n",
    "        self.price.move(80, 20)\n",
    "        self.price.resize(60, 20)\n",
    "\n",
    "        button = QPushButton(\"Run\", self)\n",
    "        button.move(20, 50)\n",
    "        button.clicked.connect(self.click_btn)\n",
    "\n",
    "        self.th = Worker()\n",
    "        self.th.recv.connect(self.receive_msg)\n",
    "\n",
    "    @pyqtSlot(str)\n",
    "    def receive_msg(self, msg):\n",
    "        print(msg)\n",
    "        self.price.setText(msg)\n",
    "\n",
    "    def click_btn(self):\n",
    "        self.th.start()\n",
    "\n",
    "\n",
    "if __name__ == '__main__':\n",
    "    app = QApplication(sys.argv)\n",
    "    ex = App()\n",
    "    ex.show()\n",
    "    app.exec_()"
   ]
  },
  {
   "cell_type": "code",
   "execution_count": null,
   "metadata": {},
   "outputs": [],
   "source": []
  }
 ],
 "metadata": {
  "kernelspec": {
   "display_name": "Python 3",
   "language": "python",
   "name": "python3"
  },
  "language_info": {
   "codemirror_mode": {
    "name": "ipython",
    "version": 3
   },
   "file_extension": ".py",
   "mimetype": "text/x-python",
   "name": "python",
   "nbconvert_exporter": "python",
   "pygments_lexer": "ipython3",
   "version": "3.8.3"
  }
 },
 "nbformat": 4,
 "nbformat_minor": 4
}
